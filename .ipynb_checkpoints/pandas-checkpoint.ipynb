{
 "cells": [
  {
   "cell_type": "markdown",
   "metadata": {},
   "source": [
    "# Test Badger Maps"
   ]
  },
  {
   "cell_type": "code",
   "execution_count": 1,
   "metadata": {},
   "outputs": [
    {
     "name": "stdout",
     "output_type": "stream",
     "text": [
      "Requirement already satisfied: pandas in /home/andre/miniconda3/lib/python3.9/site-packages (1.3.2)\r\n",
      "Requirement already satisfied: numpy>=1.17.3 in /home/andre/miniconda3/lib/python3.9/site-packages (from pandas) (1.21.2)\r\n",
      "Requirement already satisfied: pytz>=2017.3 in /home/andre/miniconda3/lib/python3.9/site-packages (from pandas) (2021.1)\r\n",
      "Requirement already satisfied: python-dateutil>=2.7.3 in /home/andre/miniconda3/lib/python3.9/site-packages (from pandas) (2.8.2)\r\n",
      "Requirement already satisfied: six>=1.5 in /home/andre/miniconda3/lib/python3.9/site-packages (from python-dateutil>=2.7.3->pandas) (1.16.0)\r\n"
     ]
    }
   ],
   "source": [
    "!pip install pandas"
   ]
  },
  {
   "cell_type": "markdown",
   "metadata": {},
   "source": [
    "First we open the file and raise possible exceptions on value errors"
   ]
  },
  {
   "cell_type": "code",
   "execution_count": 2,
   "metadata": {},
   "outputs": [
    {
     "data": {
      "text/html": [
       "<div>\n",
       "<style scoped>\n",
       "    .dataframe tbody tr th:only-of-type {\n",
       "        vertical-align: middle;\n",
       "    }\n",
       "\n",
       "    .dataframe tbody tr th {\n",
       "        vertical-align: top;\n",
       "    }\n",
       "\n",
       "    .dataframe thead th {\n",
       "        text-align: right;\n",
       "    }\n",
       "</style>\n",
       "<table border=\"1\" class=\"dataframe\">\n",
       "  <thead>\n",
       "    <tr style=\"text-align: right;\">\n",
       "      <th></th>\n",
       "      <th>First Name</th>\n",
       "      <th>Last Name</th>\n",
       "      <th>Street</th>\n",
       "      <th>Zip</th>\n",
       "      <th>City</th>\n",
       "      <th>Type</th>\n",
       "      <th>Last Check-In Date</th>\n",
       "      <th>Job</th>\n",
       "      <th>Phone</th>\n",
       "      <th>Company</th>\n",
       "    </tr>\n",
       "  </thead>\n",
       "  <tbody>\n",
       "    <tr>\n",
       "      <th>0</th>\n",
       "      <td>Federico</td>\n",
       "      <td>García</td>\n",
       "      <td>Recogidas Street</td>\n",
       "      <td>18805</td>\n",
       "      <td>Granada</td>\n",
       "      <td>U</td>\n",
       "      <td>14/01/2018</td>\n",
       "      <td>Dentist</td>\n",
       "      <td>958 419182</td>\n",
       "      <td>Badger Maps</td>\n",
       "    </tr>\n",
       "    <tr>\n",
       "      <th>1</th>\n",
       "      <td>Ángel</td>\n",
       "      <td>Ganivet</td>\n",
       "      <td>Puerta Real Avenue</td>\n",
       "      <td>18805</td>\n",
       "      <td>Granada</td>\n",
       "      <td>U</td>\n",
       "      <td>06/02/2018</td>\n",
       "      <td>Salesman</td>\n",
       "      <td>917891232</td>\n",
       "      <td>Badger Maps</td>\n",
       "    </tr>\n",
       "    <tr>\n",
       "      <th>2</th>\n",
       "      <td>NaN</td>\n",
       "      <td>NaN</td>\n",
       "      <td>NaN</td>\n",
       "      <td>NaN</td>\n",
       "      <td>NaN</td>\n",
       "      <td>NaN</td>\n",
       "      <td>NaN</td>\n",
       "      <td>NaN</td>\n",
       "      <td>NaN</td>\n",
       "      <td>NaN</td>\n",
       "    </tr>\n",
       "    <tr>\n",
       "      <th>3</th>\n",
       "      <td>André</td>\n",
       "      <td>Citröen</td>\n",
       "      <td>Gran Via Road</td>\n",
       "      <td>18805</td>\n",
       "      <td>Granada</td>\n",
       "      <td>D</td>\n",
       "      <td>1/3/2018</td>\n",
       "      <td>Postman</td>\n",
       "      <td>971 659 123</td>\n",
       "      <td>Badger Maps</td>\n",
       "    </tr>\n",
       "    <tr>\n",
       "      <th>4</th>\n",
       "      <td>Anselmo</td>\n",
       "      <td>Ortega</td>\n",
       "      <td>King St</td>\n",
       "      <td>DE1 3LD</td>\n",
       "      <td>Almería</td>\n",
       "      <td>A</td>\n",
       "      <td>12/11/2017</td>\n",
       "      <td>Policeman</td>\n",
       "      <td>933 12 41 59</td>\n",
       "      <td>Wood SA</td>\n",
       "    </tr>\n",
       "  </tbody>\n",
       "</table>\n",
       "</div>"
      ],
      "text/plain": [
       "  First Name Last Name              Street      Zip     City Type  \\\n",
       "0   Federico    García    Recogidas Street    18805  Granada    U   \n",
       "1      Ángel   Ganivet  Puerta Real Avenue    18805  Granada    U   \n",
       "2        NaN       NaN                 NaN      NaN      NaN  NaN   \n",
       "3      André   Citröen       Gran Via Road    18805  Granada    D   \n",
       "4    Anselmo    Ortega             King St  DE1 3LD  Almería    A   \n",
       "\n",
       "  Last Check-In Date        Job         Phone      Company  \n",
       "0         14/01/2018    Dentist    958 419182  Badger Maps  \n",
       "1         06/02/2018   Salesman     917891232  Badger Maps  \n",
       "2                NaN        NaN           NaN          NaN  \n",
       "3           1/3/2018    Postman   971 659 123  Badger Maps  \n",
       "4         12/11/2017  Policeman  933 12 41 59      Wood SA  "
      ]
     },
     "execution_count": 2,
     "metadata": {},
     "output_type": "execute_result"
    }
   ],
   "source": [
    "import pandas as pd\n",
    "from datetime import datetime\n",
    "\n",
    "datos = pd.read_csv('Sample test file - Sheet1.csv')\n",
    "pd.options.display.max_rows = 10\n",
    "datos.head()"
   ]
  },
  {
   "cell_type": "markdown",
   "metadata": {},
   "source": [
    "Analizamos el archivo en busca de valores vacíos y lanzamos excepciones en caso de que haya. En primer lugar, las filas vacías"
   ]
  },
  {
   "cell_type": "code",
   "execution_count": 3,
   "metadata": {},
   "outputs": [
    {
     "name": "stdout",
     "output_type": "stream",
     "text": [
      "('El archivo contiene las filas [2] vacía',)\n",
      "  First Name Last Name              Street      Zip     City Type  \\\n",
      "0   Federico    García    Recogidas Street    18805  Granada    U   \n",
      "1      Ángel   Ganivet  Puerta Real Avenue    18805  Granada    U   \n",
      "3      André   Citröen       Gran Via Road    18805  Granada    D   \n",
      "4    Anselmo    Ortega             King St  DE1 3LD  Almería    A   \n",
      "5      Bjorn   Ostberg        27, Queen St  DE1 3LD  Almería    U   \n",
      "6     Markus    Dupont    102, Fake Street    18005  Granada    A   \n",
      "7       Jake    Robins         Street Road      NaN  Granada    D   \n",
      "8       Lola    Rivers                 NaN    18005  Granada    A   \n",
      "9       Paul    Hudson    Leicester Square    18005  Granada    D   \n",
      "\n",
      "  Last Check-In Date        Job          Phone      Company  \n",
      "0         14/01/2018    Dentist     958 419182  Badger Maps  \n",
      "1         06/02/2018   Salesman      917891232  Badger Maps  \n",
      "3           1/3/2018    Postman    971 659 123  Badger Maps  \n",
      "4         12/11/2017  Policeman   933 12 41 59      Wood SA  \n",
      "5         24/04/2018      Actor  93 1 31 21 29      Wood SA  \n",
      "6                NaN   Musician      912234223    Fabric SA  \n",
      "7         11/03/2018  Assistant     1111111111    Fabric SA  \n",
      "8         21/02/2018        CEO      958963229    Fabric SA  \n",
      "9         24/01/2018   Salesman      953912345    Fabric SA  \n"
     ]
    }
   ],
   "source": [
    "# pandas nos permite obtener una matriz que indicat con True is un valor es NaN\n",
    "matriz_nulls = datos.isnull().values\n",
    "empty_rows = []\n",
    "\n",
    "# Buscamos aquí si hay alguna fila completamente vacía\n",
    "try:\n",
    "    # Iteramos por las filas\n",
    "    for fila in range(len(matriz_nulls)):\n",
    "        # Buscamos una fila que contenga todo True\n",
    "        contains_false = False\n",
    "        for col in range(len(matriz_nulls[fila])):\n",
    "            if matriz_nulls[fila][col] == False:\n",
    "                contains_false = True\n",
    "                break\n",
    "                \n",
    "        # Si una de las filas tiene todo True, lanzamos la excepción, indicando la fila que lo contine\n",
    "        if not contains_false:\n",
    "            empty_rows.append(fila)\n",
    "    if len(empty_rows) > 0:\n",
    "        raise ValueError('El archivo contiene las filas '+ str(empty_rows) + ' vacía')\n",
    "except ValueError as err:\n",
    "    print(err.args)\n",
    "    # Y procedemos a eleiminar esas filas de los datos\n",
    "    for index in empty_rows:\n",
    "        datos.drop(index, inplace = True) \n",
    "    \n",
    "\n",
    "print(datos)\n",
    "        "
   ]
  },
  {
   "cell_type": "markdown",
   "metadata": {},
   "source": [
    "Ahora, buscamos las required keys"
   ]
  },
  {
   "cell_type": "code",
   "execution_count": 4,
   "metadata": {},
   "outputs": [
    {
     "name": "stdout",
     "output_type": "stream",
     "text": [
      "('Rows [7, 8]are missing required values',)\n",
      "   index First Name Last Name              Street      Zip     City Type  \\\n",
      "0      0   Federico    García    Recogidas Street    18805  Granada    U   \n",
      "1      1      Ángel   Ganivet  Puerta Real Avenue    18805  Granada    U   \n",
      "2      3      André   Citröen       Gran Via Road    18805  Granada    D   \n",
      "3      4    Anselmo    Ortega             King St  DE1 3LD  Almería    A   \n",
      "4      5      Bjorn   Ostberg        27, Queen St  DE1 3LD  Almería    U   \n",
      "5      6     Markus    Dupont    102, Fake Street    18005  Granada    A   \n",
      "6      9       Paul    Hudson    Leicester Square    18005  Granada    D   \n",
      "\n",
      "  Last Check-In Date        Job          Phone      Company  \n",
      "0         14/01/2018    Dentist     958 419182  Badger Maps  \n",
      "1         06/02/2018   Salesman      917891232  Badger Maps  \n",
      "2           1/3/2018    Postman    971 659 123  Badger Maps  \n",
      "3         12/11/2017  Policeman   933 12 41 59      Wood SA  \n",
      "4         24/04/2018      Actor  93 1 31 21 29      Wood SA  \n",
      "5                NaN   Musician      912234223    Fabric SA  \n",
      "6         24/01/2018   Salesman      953912345    Fabric SA  \n"
     ]
    }
   ],
   "source": [
    "\n",
    "required_cols = ['Street', 'Zip', 'City', 'Last Check-In Date', 'Company']\n",
    "saved_rows = []\n",
    "try:\n",
    "    for index, row in datos.iterrows():\n",
    "        for label in required_cols:\n",
    "            if pd.isna(row[label]):\n",
    "                saved_rows.append(index)\n",
    "                break\n",
    "                \n",
    "    if len(saved_rows)>0:\n",
    "        raise ValueError('Rows '+ str(saved_rows) + 'are missing required values')\n",
    "\n",
    "except ValueError as err:\n",
    "    print(err.args)\n",
    "    # Y procedemos a eleiminar esas filas a las que le faltan datos requeridos\n",
    "    for index in saved_rows:\n",
    "        datos.drop(index, inplace = True) \n",
    "        \n",
    "datos.reset_index(inplace=True)\n",
    "print(datos)"
   ]
  },
  {
   "cell_type": "markdown",
   "metadata": {},
   "source": [
    "Comprobamos otro tipo de celdas vacías"
   ]
  },
  {
   "cell_type": "code",
   "execution_count": 5,
   "metadata": {},
   "outputs": [
    {
     "name": "stdout",
     "output_type": "stream",
     "text": [
      "('El archivo contine campos vacíos',)\n"
     ]
    }
   ],
   "source": [
    "# Aquí comprobamos si hay algún campo vacío en cualquier fila todavía (entiendo que estas no hacen falta eliminarlas)\n",
    "try:\n",
    "    tiene_nulls = datos.isnull().values.any()\n",
    "    if tiene_nulls:\n",
    "        raise ValueError('El archivo contine campos vacíos')\n",
    "except ValueError as err:\n",
    "    print(err.args)"
   ]
  },
  {
   "cell_type": "markdown",
   "metadata": {},
   "source": [
    "Customer con el check-in más reciente"
   ]
  },
  {
   "cell_type": "code",
   "execution_count": 6,
   "metadata": {},
   "outputs": [
    {
     "name": "stdout",
     "output_type": "stream",
     "text": [
      "Los datos ordenados de check-in más reciente a más antiguo son:\n",
      "   level_0  index First Name Last Name              Street      Zip     City  \\\n",
      "0        4      5      Bjorn   Ostberg        27, Queen St  DE1 3LD  Almería   \n",
      "1        2      3      André   Citröen       Gran Via Road    18805  Granada   \n",
      "2        1      1      Ángel   Ganivet  Puerta Real Avenue    18805  Granada   \n",
      "3        6      9       Paul    Hudson    Leicester Square    18005  Granada   \n",
      "4        0      0   Federico    García    Recogidas Street    18805  Granada   \n",
      "5        3      4    Anselmo    Ortega             King St  DE1 3LD  Almería   \n",
      "6        5      6     Markus    Dupont    102, Fake Street    18005  Granada   \n",
      "\n",
      "  Type Last Check-In Date        Job          Phone      Company  \n",
      "0    U         2018-04-24      Actor  93 1 31 21 29      Wood SA  \n",
      "1    D         2018-03-01    Postman    971 659 123  Badger Maps  \n",
      "2    U         2018-02-06   Salesman      917891232  Badger Maps  \n",
      "3    D         2018-01-24   Salesman      953912345    Fabric SA  \n",
      "4    U         2018-01-14    Dentist     958 419182  Badger Maps  \n",
      "5    A         2017-11-12  Policeman   933 12 41 59      Wood SA  \n",
      "6    A                NaT   Musician      912234223    Fabric SA  \n",
      "El cliente con el check in más reciente es:\n",
      "Bjorn Ostberg\n"
     ]
    }
   ],
   "source": [
    "# Primero transformamos el tipo de los datos de la columna del check in\n",
    "datos['Last Check-In Date'] = pd.to_datetime(datos['Last Check-In Date'], format=\"%d/%m/%Y\")\n",
    "# Ordenamos los datos por el check in y lo guardamos en una nueva variable\n",
    "ordered = datos.sort_values(by=['Last Check-In Date'], ascending = False)\n",
    "ordered.reset_index(inplace=True)\n",
    "# Imprimimos los resultadso\n",
    "print('Los datos ordenados de check-in más reciente a más antiguo son:')\n",
    "print(ordered)\n",
    "print('El cliente con el check in más reciente es:')\n",
    "print(ordered.loc[0]['First Name'] + ' ' + ordered.loc[0]['Last Name'])\n"
   ]
  },
  {
   "cell_type": "markdown",
   "metadata": {},
   "source": [
    "Customer con el check-in más antiguo"
   ]
  },
  {
   "cell_type": "code",
   "execution_count": 7,
   "metadata": {},
   "outputs": [
    {
     "name": "stdout",
     "output_type": "stream",
     "text": [
      "Los datos ordenados de más a antiguo a más reciente son:\n",
      "   level_0  index First Name Last Name              Street      Zip     City  \\\n",
      "0        3      4    Anselmo    Ortega             King St  DE1 3LD  Almería   \n",
      "1        0      0   Federico    García    Recogidas Street    18805  Granada   \n",
      "2        6      9       Paul    Hudson    Leicester Square    18005  Granada   \n",
      "3        1      1      Ángel   Ganivet  Puerta Real Avenue    18805  Granada   \n",
      "4        2      3      André   Citröen       Gran Via Road    18805  Granada   \n",
      "5        4      5      Bjorn   Ostberg        27, Queen St  DE1 3LD  Almería   \n",
      "6        5      6     Markus    Dupont    102, Fake Street    18005  Granada   \n",
      "\n",
      "  Type Last Check-In Date        Job          Phone      Company  \n",
      "0    A         2017-11-12  Policeman   933 12 41 59      Wood SA  \n",
      "1    U         2018-01-14    Dentist     958 419182  Badger Maps  \n",
      "2    D         2018-01-24   Salesman      953912345    Fabric SA  \n",
      "3    U         2018-02-06   Salesman      917891232  Badger Maps  \n",
      "4    D         2018-03-01    Postman    971 659 123  Badger Maps  \n",
      "5    U         2018-04-24      Actor  93 1 31 21 29      Wood SA  \n",
      "6    A                NaT   Musician      912234223    Fabric SA  \n",
      "El cliente con el check-in más antiguo a más es:\n",
      "Anselmo Ortega\n"
     ]
    }
   ],
   "source": [
    "ordered = datos.sort_values(by=['Last Check-In Date'], ascending = True)\n",
    "ordered.reset_index(inplace=True)\n",
    "print('Los datos ordenados de más a antiguo a más reciente son:')\n",
    "print(ordered)\n",
    "print('El cliente con el check-in más antiguo a más es:')\n",
    "print(ordered.loc[0]['First Name'] + ' ' + ordered.loc[0]['Last Name'])"
   ]
  },
  {
   "cell_type": "markdown",
   "metadata": {},
   "source": [
    "Lista full name customers ordenados alfabeticamente"
   ]
  },
  {
   "cell_type": "code",
   "execution_count": 8,
   "metadata": {},
   "outputs": [
    {
     "name": "stdout",
     "output_type": "stream",
     "text": [
      "Lista de los clientes ordenados alfabéticamente:\n",
      "  First Name Last Name\n",
      "0      André   Citröen\n",
      "1    Anselmo    Ortega\n",
      "2      Bjorn   Ostberg\n",
      "3   Federico    García\n",
      "4     Markus    Dupont\n",
      "5       Paul    Hudson\n",
      "6      Ángel   Ganivet\n"
     ]
    }
   ],
   "source": [
    "# Ordenamos los datos por primer nombre y luego por apellido\n",
    "ordered = datos.sort_values(by=['First Name','Last Name'], ascending = True)\n",
    "ordered.reset_index(inplace=True)\n",
    "# Seleccionamos ambas columnas e imprimimos\n",
    "print('Lista de los clientes ordenados alfabéticamente:')\n",
    "print(ordered[['First Name','Last Name']])"
   ]
  },
  {
   "cell_type": "code",
   "execution_count": null,
   "metadata": {},
   "outputs": [],
   "source": []
  }
 ],
 "metadata": {
  "kernelspec": {
   "display_name": "Python 3 (ipykernel)",
   "language": "python",
   "name": "python3"
  },
  "language_info": {
   "codemirror_mode": {
    "name": "ipython",
    "version": 3
   },
   "file_extension": ".py",
   "mimetype": "text/x-python",
   "name": "python",
   "nbconvert_exporter": "python",
   "pygments_lexer": "ipython3",
   "version": "3.9.5"
  }
 },
 "nbformat": 4,
 "nbformat_minor": 2
}
