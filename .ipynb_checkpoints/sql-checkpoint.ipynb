{
 "cells": [
  {
   "cell_type": "markdown",
   "metadata": {},
   "source": [
    "# Test Badger Maps"
   ]
  },
  {
   "cell_type": "code",
   "execution_count": null,
   "metadata": {},
   "outputs": [],
   "source": [
    "!pip install pandas"
   ]
  },
  {
   "cell_type": "code",
   "execution_count": 1,
   "metadata": {
    "vscode": {
     "languageId": "plaintext"
    }
   },
   "outputs": [
    {
     "data": {
      "text/html": [
       "<div>\n",
       "<style scoped>\n",
       "    .dataframe tbody tr th:only-of-type {\n",
       "        vertical-align: middle;\n",
       "    }\n",
       "\n",
       "    .dataframe tbody tr th {\n",
       "        vertical-align: top;\n",
       "    }\n",
       "\n",
       "    .dataframe thead th {\n",
       "        text-align: right;\n",
       "    }\n",
       "</style>\n",
       "<table border=\"1\" class=\"dataframe\">\n",
       "  <thead>\n",
       "    <tr style=\"text-align: right;\">\n",
       "      <th></th>\n",
       "      <th>First Name</th>\n",
       "      <th>Last Name</th>\n",
       "      <th>Street</th>\n",
       "      <th>Zip</th>\n",
       "      <th>City</th>\n",
       "      <th>Type</th>\n",
       "      <th>Last Check-In Date</th>\n",
       "      <th>Job</th>\n",
       "      <th>Phone</th>\n",
       "      <th>Company</th>\n",
       "    </tr>\n",
       "  </thead>\n",
       "  <tbody>\n",
       "    <tr>\n",
       "      <th>0</th>\n",
       "      <td>Federico</td>\n",
       "      <td>García</td>\n",
       "      <td>Recogidas Street</td>\n",
       "      <td>18805</td>\n",
       "      <td>Granada</td>\n",
       "      <td>U</td>\n",
       "      <td>14/01/2018</td>\n",
       "      <td>Dentist</td>\n",
       "      <td>958 419182</td>\n",
       "      <td>Badger Maps</td>\n",
       "    </tr>\n",
       "    <tr>\n",
       "      <th>1</th>\n",
       "      <td>Ángel</td>\n",
       "      <td>Ganivet</td>\n",
       "      <td>Puerta Real Avenue</td>\n",
       "      <td>18805</td>\n",
       "      <td>Granada</td>\n",
       "      <td>U</td>\n",
       "      <td>06/02/2018</td>\n",
       "      <td>Salesman</td>\n",
       "      <td>917891232</td>\n",
       "      <td>Badger Maps</td>\n",
       "    </tr>\n",
       "    <tr>\n",
       "      <th>2</th>\n",
       "      <td>NaN</td>\n",
       "      <td>NaN</td>\n",
       "      <td>NaN</td>\n",
       "      <td>NaN</td>\n",
       "      <td>NaN</td>\n",
       "      <td>NaN</td>\n",
       "      <td>NaN</td>\n",
       "      <td>NaN</td>\n",
       "      <td>NaN</td>\n",
       "      <td>NaN</td>\n",
       "    </tr>\n",
       "    <tr>\n",
       "      <th>3</th>\n",
       "      <td>André</td>\n",
       "      <td>Citröen</td>\n",
       "      <td>Gran Via Road</td>\n",
       "      <td>18805</td>\n",
       "      <td>Granada</td>\n",
       "      <td>D</td>\n",
       "      <td>1/3/2018</td>\n",
       "      <td>Postman</td>\n",
       "      <td>971 659 123</td>\n",
       "      <td>Badger Maps</td>\n",
       "    </tr>\n",
       "    <tr>\n",
       "      <th>4</th>\n",
       "      <td>Anselmo</td>\n",
       "      <td>Ortega</td>\n",
       "      <td>King St</td>\n",
       "      <td>DE1 3LD</td>\n",
       "      <td>Almería</td>\n",
       "      <td>A</td>\n",
       "      <td>12/11/2017</td>\n",
       "      <td>Policeman</td>\n",
       "      <td>933 12 41 59</td>\n",
       "      <td>Wood SA</td>\n",
       "    </tr>\n",
       "  </tbody>\n",
       "</table>\n",
       "</div>"
      ],
      "text/plain": [
       "  First Name Last Name              Street      Zip     City Type  \\\n",
       "0   Federico    García    Recogidas Street    18805  Granada    U   \n",
       "1      Ángel   Ganivet  Puerta Real Avenue    18805  Granada    U   \n",
       "2        NaN       NaN                 NaN      NaN      NaN  NaN   \n",
       "3      André   Citröen       Gran Via Road    18805  Granada    D   \n",
       "4    Anselmo    Ortega             King St  DE1 3LD  Almería    A   \n",
       "\n",
       "  Last Check-In Date        Job         Phone      Company  \n",
       "0         14/01/2018    Dentist    958 419182  Badger Maps  \n",
       "1         06/02/2018   Salesman     917891232  Badger Maps  \n",
       "2                NaN        NaN           NaN          NaN  \n",
       "3           1/3/2018    Postman   971 659 123  Badger Maps  \n",
       "4         12/11/2017  Policeman  933 12 41 59      Wood SA  "
      ]
     },
     "execution_count": 1,
     "metadata": {},
     "output_type": "execute_result"
    }
   ],
   "source": [
    "import pandas as pd\n",
    "from datetime import datetime\n",
    "\n",
    "datos = pd.read_csv('Sample test file - Sheet1.csv')\n",
    "pd.options.display.max_rows = 10\n",
    "datos.head()"
   ]
  },
  {
   "cell_type": "code",
   "execution_count": 5,
   "metadata": {},
   "outputs": [
    {
     "data": {
      "text/plain": [
       "<sqlite3.Cursor at 0x7f51b3e6aea0>"
      ]
     },
     "execution_count": 5,
     "metadata": {},
     "output_type": "execute_result"
    }
   ],
   "source": [
    "import sqlite3\n",
    "\n",
    "conn = sqlite3.connect('badger.db')\n",
    "\n",
    "conn.execute('''CREATE TABLE data\n",
    "         (\n",
    "         first_name TEXT,\n",
    "         second_name TEXT,     \n",
    "         street           TEXT    NOT NULL,\n",
    "         zip            TEXT     NOT NULL,\n",
    "         city           TEXT     NOT NULL,\n",
    "         type TEXT,\n",
    "         job TEXT,\n",
    "         phone TEXT,\n",
    "         last_check_in_date DATETIME NOT NULL,\n",
    "         company        TEXT     NOT NULL\n",
    "         \n",
    "         );''')\n"
   ]
  },
  {
   "cell_type": "code",
   "execution_count": 18,
   "metadata": {},
   "outputs": [
    {
     "ename": "OperationalError",
     "evalue": "near \"419182\": syntax error",
     "output_type": "error",
     "traceback": [
      "\u001b[0;31m---------------------------------------------------------------------------\u001b[0m",
      "\u001b[0;31mOperationalError\u001b[0m                          Traceback (most recent call last)",
      "\u001b[0;32m/tmp/ipykernel_50351/3577670681.py\u001b[0m in \u001b[0;36m<module>\u001b[0;34m\u001b[0m\n\u001b[1;32m      7\u001b[0m         \u001b[0;32mcontinue\u001b[0m\u001b[0;34m\u001b[0m\u001b[0;34m\u001b[0m\u001b[0m\n\u001b[1;32m      8\u001b[0m \u001b[0;34m\u001b[0m\u001b[0m\n\u001b[0;32m----> 9\u001b[0;31m     conn.execute(\"INSERT INTO data \\\n\u001b[0m\u001b[1;32m     10\u001b[0m                  \u001b[0;34m(\u001b[0m\u001b[0mfirst_name\u001b[0m\u001b[0;34m,\u001b[0m\u001b[0msecond_name\u001b[0m\u001b[0;34m,\u001b[0m\u001b[0mstreet\u001b[0m\u001b[0;34m,\u001b[0m\u001b[0mzip\u001b[0m\u001b[0;34m,\u001b[0m\u001b[0mcity\u001b[0m\u001b[0;34m,\u001b[0m\u001b[0mtype\u001b[0m\u001b[0;34m,\u001b[0m\u001b[0mjob\u001b[0m\u001b[0;34m,\u001b[0m\u001b[0mphone\u001b[0m\u001b[0;34m,\u001b[0m\u001b[0mlast_check_in_date\u001b[0m\u001b[0;34m,\u001b[0m\u001b[0mcompany\u001b[0m\u001b[0;34m)\u001b[0m\u001b[0;31m \u001b[0m\u001b[0;31m\\\u001b[0m\u001b[0;34m\u001b[0m\u001b[0;34m\u001b[0m\u001b[0m\n\u001b[1;32m     11\u001b[0m       VALUES ({},{},{},{},{},{},{},{},{},{})\".format(\n",
      "\u001b[0;31mOperationalError\u001b[0m: near \"419182\": syntax error"
     ]
    }
   ],
   "source": [
    "for index, row in datos.iterrows():\n",
    "    if pd.isna(row['First Name']) and pd.isna(row['Last Name']) and pd.isna(row['Street']) and pd.isna(row['Zip']) and pd.isna(row['Type']) and pd.isna(row['City']) and pd.isna(row['Job']) and pd.isna(row['Phone']) and pd.isna(row['Street']) and pd.isna(row['Last Check-In Date']) and pd.isna(row['Company']):\n",
    "        print('Empty row number ' + str(index)) \n",
    "        continue\n",
    "    if pd.isna(row['Street']) or pd.isna(row['Zip']) or pd.isna(row['Street']) and pd.isna(row['Last Check-In Date']) and pd.isna(row['Company']):\n",
    "        print('Row '+ str(index) + ' Misses a required value')\n",
    "        continue\n",
    "    \n",
    "    conn.execute(\"INSERT INTO data \\\n",
    "                 (first_name,second_name,street,zip,city,type,job,phone,last_check_in_date,company) \\\n",
    "      VALUES ({},{},{},{},{},{},{},{},{},{})\".format(\n",
    "        row['First Name'],row['Last Name'],row['Zip'],row['Zip'],row['City'],row['Type'],row['Job'],row['Phone'],row['Last Check-In Date'],row['Company']));\n",
    "    "
   ]
  },
  {
   "cell_type": "code",
   "execution_count": null,
   "metadata": {},
   "outputs": [],
   "source": []
  }
 ],
 "metadata": {
  "kernelspec": {
   "display_name": "Python 3 (ipykernel)",
   "language": "python",
   "name": "python3"
  },
  "language_info": {
   "codemirror_mode": {
    "name": "ipython",
    "version": 3
   },
   "file_extension": ".py",
   "mimetype": "text/x-python",
   "name": "python",
   "nbconvert_exporter": "python",
   "pygments_lexer": "ipython3",
   "version": "3.9.5"
  }
 },
 "nbformat": 4,
 "nbformat_minor": 2
}
