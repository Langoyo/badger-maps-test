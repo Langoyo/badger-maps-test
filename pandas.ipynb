{
 "cells": [
  {
   "cell_type": "markdown",
   "metadata": {},
   "source": [
    "# Test Badger Maps"
   ]
  },
  {
   "cell_type": "code",
   "execution_count": 1,
   "metadata": {},
   "outputs": [
    {
     "name": "stdout",
     "output_type": "stream",
     "text": [
      "Requirement already satisfied: pandas in /home/andre/miniconda3/lib/python3.9/site-packages (1.3.2)\n",
      "Requirement already satisfied: pytz>=2017.3 in /home/andre/miniconda3/lib/python3.9/site-packages (from pandas) (2021.1)\n",
      "Requirement already satisfied: python-dateutil>=2.7.3 in /home/andre/miniconda3/lib/python3.9/site-packages (from pandas) (2.8.2)\n",
      "Requirement already satisfied: numpy>=1.17.3 in /home/andre/miniconda3/lib/python3.9/site-packages (from pandas) (1.21.2)\n",
      "Requirement already satisfied: six>=1.5 in /home/andre/miniconda3/lib/python3.9/site-packages (from python-dateutil>=2.7.3->pandas) (1.16.0)\n"
     ]
    }
   ],
   "source": [
    "!pip install pandas"
   ]
  },
  {
   "cell_type": "markdown",
   "metadata": {},
   "source": [
    "First we open the file and raise possible exceptions on value errors"
   ]
  },
  {
   "cell_type": "code",
   "execution_count": 9,
   "metadata": {},
   "outputs": [
    {
     "name": "stdout",
     "output_type": "stream",
     "text": [
      "<class 'pandas.core.frame.DataFrame'>\n",
      "RangeIndex: 10 entries, 0 to 9\n",
      "Data columns (total 10 columns):\n",
      " #   Column              Non-Null Count  Dtype \n",
      "---  ------              --------------  ----- \n",
      " 0   First Name          9 non-null      object\n",
      " 1   Last Name           9 non-null      object\n",
      " 2   Street              8 non-null      object\n",
      " 3   Zip                 8 non-null      object\n",
      " 4   City                9 non-null      object\n",
      " 5   Type                9 non-null      object\n",
      " 6   Last Check-In Date  8 non-null      object\n",
      " 7   Job                 9 non-null      object\n",
      " 8   Phone               9 non-null      object\n",
      " 9   Company             9 non-null      object\n",
      "dtypes: object(10)\n",
      "memory usage: 928.0+ bytes\n"
     ]
    }
   ],
   "source": [
    "import pandas as pd\n",
    "from datetime import datetime\n",
    "\n",
    "datos = pd.read_csv('Sample test file - Sheet1.csv')\n",
    "\n",
    "datos.head()\n",
    "datos.info()"
   ]
  },
  {
   "cell_type": "markdown",
   "metadata": {},
   "source": [
    "Analizamos el archivo en busca de valores vacíos y lanzamos excepciones en caso de que haya."
   ]
  },
  {
   "cell_type": "code",
   "execution_count": 21,
   "metadata": {},
   "outputs": [
    {
     "name": "stdout",
     "output_type": "stream",
     "text": [
      "   index First Name Last Name              Street      Zip     City Type  \\\n",
      "0      0   Federico    García    Recogidas Street    18805  Granada    U   \n",
      "1      1      Ángel   Ganivet  Puerta Real Avenue    18805  Granada    U   \n",
      "2      3      André   Citröen       Gran Via Road    18805  Granada    D   \n",
      "3      4    Anselmo    Ortega             King St  DE1 3LD  Almería    A   \n",
      "4      5      Bjorn   Ostberg        27, Queen St  DE1 3LD  Almería    U   \n",
      "5      9       Paul    Hudson    Leicester Square    18005  Granada    D   \n",
      "\n",
      "  Last Check-In Date        Job          Phone      Company  \n",
      "0         14/01/2018    Dentist     958 419182  Badger Maps  \n",
      "1         06/02/2018   Salesman      917891232  Badger Maps  \n",
      "2           1/3/2018    Postman    971 659 123  Badger Maps  \n",
      "3         12/11/2017  Policeman   933 12 41 59      Wood SA  \n",
      "4         24/04/2018      Actor  93 1 31 21 29      Wood SA  \n",
      "5         24/01/2018   Salesman      953912345    Fabric SA  \n"
     ]
    }
   ],
   "source": [
    "# pandas nos permite obtener una matriz que indicat con True is un valor es NaN\n",
    "matriz_nulls = datos.isnull().values\n",
    "\n",
    "\n",
    "# Buscamos aquí si hay alguna fila completamente vacía\n",
    "try:\n",
    "    # Iteramos por las filas\n",
    "    for fila in range(len(matriz_nulls)):\n",
    "        # Buscamos una fila que contenga todo True\n",
    "        contains_false = False\n",
    "        for col in range(len(matriz_nulls[fila])):\n",
    "            if matriz_nulls[fila][col] == False:\n",
    "                contains_false = True\n",
    "                break\n",
    "            # Si una de las filas tiene todo True, lanzamos la excepción, indicando la fila que lo contine\n",
    "            if not contains_false:\n",
    "                raise ValueError('El archivo contiene la fila '+ str(fila) + ' vacía')\n",
    "except ValueError as err:\n",
    "    print(err.args)\n",
    "\n",
    "\n",
    "# Aquí comprobamos si hay algún campo vacío en cualquier fila\n",
    "try:\n",
    "    tiene_nulls = datos.isnull().values.any()\n",
    "    if tiene_nulls:\n",
    "        raise ValueError('El archivo contine campos vacíos')\n",
    "except ValueError as err:\n",
    "    print(err.args)\n",
    "\n",
    "# Con este código quitamos las filas que carecen de algún valor\n",
    "datos.dropna(inplace = True)\n",
    "datos.reset_index(inplace=True)\n",
    "print(datos)\n",
    "        "
   ]
  },
  {
   "cell_type": "code",
   "execution_count": null,
   "metadata": {},
   "outputs": [],
   "source": []
  }
 ],
 "metadata": {
  "kernelspec": {
   "display_name": "Python 3 (ipykernel)",
   "language": "python",
   "name": "python3"
  },
  "language_info": {
   "codemirror_mode": {
    "name": "ipython",
    "version": 3
   },
   "file_extension": ".py",
   "mimetype": "text/x-python",
   "name": "python",
   "nbconvert_exporter": "python",
   "pygments_lexer": "ipython3",
   "version": "3.9.5"
  }
 },
 "nbformat": 4,
 "nbformat_minor": 2
}
