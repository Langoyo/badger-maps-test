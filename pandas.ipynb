{
 "cells": [
  {
   "cell_type": "markdown",
   "metadata": {},
   "source": [
    "# Test Badger Maps"
   ]
  },
  {
   "cell_type": "code",
   "execution_count": 1,
   "metadata": {},
   "outputs": [
    {
     "name": "stdout",
     "output_type": "stream",
     "text": [
      "Requirement already satisfied: pandas in /home/andre/miniconda3/lib/python3.9/site-packages (1.3.2)\n",
      "Requirement already satisfied: pytz>=2017.3 in /home/andre/miniconda3/lib/python3.9/site-packages (from pandas) (2021.1)\n",
      "Requirement already satisfied: python-dateutil>=2.7.3 in /home/andre/miniconda3/lib/python3.9/site-packages (from pandas) (2.8.2)\n",
      "Requirement already satisfied: numpy>=1.17.3 in /home/andre/miniconda3/lib/python3.9/site-packages (from pandas) (1.21.2)\n",
      "Requirement already satisfied: six>=1.5 in /home/andre/miniconda3/lib/python3.9/site-packages (from python-dateutil>=2.7.3->pandas) (1.16.0)\n"
     ]
    }
   ],
   "source": [
    "!pip install pandas"
   ]
  },
  {
   "cell_type": "markdown",
   "metadata": {},
   "source": [
    "First we open the file"
   ]
  },
  {
   "cell_type": "code",
   "execution_count": 2,
   "metadata": {},
   "outputs": [
    {
     "data": {
      "text/html": [
       "<div>\n",
       "<style scoped>\n",
       "    .dataframe tbody tr th:only-of-type {\n",
       "        vertical-align: middle;\n",
       "    }\n",
       "\n",
       "    .dataframe tbody tr th {\n",
       "        vertical-align: top;\n",
       "    }\n",
       "\n",
       "    .dataframe thead th {\n",
       "        text-align: right;\n",
       "    }\n",
       "</style>\n",
       "<table border=\"1\" class=\"dataframe\">\n",
       "  <thead>\n",
       "    <tr style=\"text-align: right;\">\n",
       "      <th></th>\n",
       "      <th>First Name</th>\n",
       "      <th>Last Name</th>\n",
       "      <th>Street</th>\n",
       "      <th>Zip</th>\n",
       "      <th>City</th>\n",
       "      <th>Type</th>\n",
       "      <th>Last Check-In Date</th>\n",
       "      <th>Job</th>\n",
       "      <th>Phone</th>\n",
       "      <th>Company</th>\n",
       "    </tr>\n",
       "  </thead>\n",
       "  <tbody>\n",
       "    <tr>\n",
       "      <th>0</th>\n",
       "      <td>Federico</td>\n",
       "      <td>García</td>\n",
       "      <td>Recogidas Street</td>\n",
       "      <td>18805</td>\n",
       "      <td>Granada</td>\n",
       "      <td>U</td>\n",
       "      <td>14/01/2018</td>\n",
       "      <td>Dentist</td>\n",
       "      <td>958 419182</td>\n",
       "      <td>Badger Maps</td>\n",
       "    </tr>\n",
       "    <tr>\n",
       "      <th>1</th>\n",
       "      <td>Ángel</td>\n",
       "      <td>Ganivet</td>\n",
       "      <td>Puerta Real Avenue</td>\n",
       "      <td>18805</td>\n",
       "      <td>Granada</td>\n",
       "      <td>U</td>\n",
       "      <td>06/02/2018</td>\n",
       "      <td>Salesman</td>\n",
       "      <td>917891232</td>\n",
       "      <td>Badger Maps</td>\n",
       "    </tr>\n",
       "    <tr>\n",
       "      <th>2</th>\n",
       "      <td>NaN</td>\n",
       "      <td>NaN</td>\n",
       "      <td>NaN</td>\n",
       "      <td>NaN</td>\n",
       "      <td>NaN</td>\n",
       "      <td>NaN</td>\n",
       "      <td>NaN</td>\n",
       "      <td>NaN</td>\n",
       "      <td>NaN</td>\n",
       "      <td>NaN</td>\n",
       "    </tr>\n",
       "    <tr>\n",
       "      <th>3</th>\n",
       "      <td>André</td>\n",
       "      <td>Citröen</td>\n",
       "      <td>Gran Via Road</td>\n",
       "      <td>18805</td>\n",
       "      <td>Granada</td>\n",
       "      <td>D</td>\n",
       "      <td>1/3/2018</td>\n",
       "      <td>Postman</td>\n",
       "      <td>971 659 123</td>\n",
       "      <td>Badger Maps</td>\n",
       "    </tr>\n",
       "    <tr>\n",
       "      <th>4</th>\n",
       "      <td>Anselmo</td>\n",
       "      <td>Ortega</td>\n",
       "      <td>King St</td>\n",
       "      <td>DE1 3LD</td>\n",
       "      <td>Almería</td>\n",
       "      <td>A</td>\n",
       "      <td>12/11/2017</td>\n",
       "      <td>Policeman</td>\n",
       "      <td>933 12 41 59</td>\n",
       "      <td>Wood SA</td>\n",
       "    </tr>\n",
       "  </tbody>\n",
       "</table>\n",
       "</div>"
      ],
      "text/plain": [
       "  First Name Last Name              Street      Zip     City Type  \\\n",
       "0   Federico    García    Recogidas Street    18805  Granada    U   \n",
       "1      Ángel   Ganivet  Puerta Real Avenue    18805  Granada    U   \n",
       "2        NaN       NaN                 NaN      NaN      NaN  NaN   \n",
       "3      André   Citröen       Gran Via Road    18805  Granada    D   \n",
       "4    Anselmo    Ortega             King St  DE1 3LD  Almería    A   \n",
       "\n",
       "  Last Check-In Date        Job         Phone      Company  \n",
       "0         14/01/2018    Dentist    958 419182  Badger Maps  \n",
       "1         06/02/2018   Salesman     917891232  Badger Maps  \n",
       "2                NaN        NaN           NaN          NaN  \n",
       "3           1/3/2018    Postman   971 659 123  Badger Maps  \n",
       "4         12/11/2017  Policeman  933 12 41 59      Wood SA  "
      ]
     },
     "execution_count": 2,
     "metadata": {},
     "output_type": "execute_result"
    }
   ],
   "source": [
    "import pandas as pd\n",
    "\n",
    "\n",
    "datos = pd.read_csv('Sample test file - Sheet1.csv')\n",
    "\n",
    "datos.head()"
   ]
  },
  {
   "cell_type": "code",
   "execution_count": null,
   "metadata": {},
   "outputs": [],
   "source": []
  }
 ],
 "metadata": {
  "kernelspec": {
   "display_name": "Python 3 (ipykernel)",
   "language": "python",
   "name": "python3"
  },
  "language_info": {
   "codemirror_mode": {
    "name": "ipython",
    "version": 3
   },
   "file_extension": ".py",
   "mimetype": "text/x-python",
   "name": "python",
   "nbconvert_exporter": "python",
   "pygments_lexer": "ipython3",
   "version": "3.9.5"
  }
 },
 "nbformat": 4,
 "nbformat_minor": 2
}
