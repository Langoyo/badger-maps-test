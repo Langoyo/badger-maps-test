{
 "cells": [
  {
   "cell_type": "markdown",
   "metadata": {},
   "source": [
    "# Test Badger Maps"
   ]
  },
  {
   "cell_type": "code",
   "execution_count": 1,
   "metadata": {},
   "outputs": [
    {
     "name": "stdout",
     "output_type": "stream",
     "text": [
      "Requirement already satisfied: pandas in /home/andre/miniconda3/lib/python3.9/site-packages (1.3.2)\n",
      "Requirement already satisfied: python-dateutil>=2.7.3 in /home/andre/miniconda3/lib/python3.9/site-packages (from pandas) (2.8.2)\n",
      "Requirement already satisfied: numpy>=1.17.3 in /home/andre/miniconda3/lib/python3.9/site-packages (from pandas) (1.21.2)\n",
      "Requirement already satisfied: pytz>=2017.3 in /home/andre/miniconda3/lib/python3.9/site-packages (from pandas) (2021.1)\n",
      "Requirement already satisfied: six>=1.5 in /home/andre/miniconda3/lib/python3.9/site-packages (from python-dateutil>=2.7.3->pandas) (1.16.0)\n",
      "\u001b[33mWARNING: You are using pip version 22.0.4; however, version 22.1 is available.\n",
      "You should consider upgrading via the '/home/andre/miniconda3/bin/python3 -m pip install --upgrade pip' command.\u001b[0m\u001b[33m\n",
      "\u001b[0m"
     ]
    }
   ],
   "source": [
    "!pip install pandas"
   ]
  },
  {
   "cell_type": "code",
   "execution_count": 2,
   "metadata": {},
   "outputs": [
    {
     "data": {
      "text/html": [
       "<div>\n",
       "<style scoped>\n",
       "    .dataframe tbody tr th:only-of-type {\n",
       "        vertical-align: middle;\n",
       "    }\n",
       "\n",
       "    .dataframe tbody tr th {\n",
       "        vertical-align: top;\n",
       "    }\n",
       "\n",
       "    .dataframe thead th {\n",
       "        text-align: right;\n",
       "    }\n",
       "</style>\n",
       "<table border=\"1\" class=\"dataframe\">\n",
       "  <thead>\n",
       "    <tr style=\"text-align: right;\">\n",
       "      <th></th>\n",
       "      <th>First Name</th>\n",
       "      <th>Last Name</th>\n",
       "      <th>Street</th>\n",
       "      <th>Zip</th>\n",
       "      <th>City</th>\n",
       "      <th>Type</th>\n",
       "      <th>Last Check-In Date</th>\n",
       "      <th>Job</th>\n",
       "      <th>Phone</th>\n",
       "      <th>Company</th>\n",
       "    </tr>\n",
       "  </thead>\n",
       "  <tbody>\n",
       "    <tr>\n",
       "      <th>0</th>\n",
       "      <td>Federico</td>\n",
       "      <td>García</td>\n",
       "      <td>Recogidas Street</td>\n",
       "      <td>18805</td>\n",
       "      <td>Granada</td>\n",
       "      <td>U</td>\n",
       "      <td>14/01/2018</td>\n",
       "      <td>Dentist</td>\n",
       "      <td>958 419182</td>\n",
       "      <td>Badger Maps</td>\n",
       "    </tr>\n",
       "    <tr>\n",
       "      <th>1</th>\n",
       "      <td>Ángel</td>\n",
       "      <td>Ganivet</td>\n",
       "      <td>Puerta Real Avenue</td>\n",
       "      <td>18805</td>\n",
       "      <td>Granada</td>\n",
       "      <td>U</td>\n",
       "      <td>06/02/2018</td>\n",
       "      <td>Salesman</td>\n",
       "      <td>917891232</td>\n",
       "      <td>Badger Maps</td>\n",
       "    </tr>\n",
       "    <tr>\n",
       "      <th>2</th>\n",
       "      <td>NaN</td>\n",
       "      <td>NaN</td>\n",
       "      <td>NaN</td>\n",
       "      <td>NaN</td>\n",
       "      <td>NaN</td>\n",
       "      <td>NaN</td>\n",
       "      <td>NaN</td>\n",
       "      <td>NaN</td>\n",
       "      <td>NaN</td>\n",
       "      <td>NaN</td>\n",
       "    </tr>\n",
       "    <tr>\n",
       "      <th>3</th>\n",
       "      <td>André</td>\n",
       "      <td>Citröen</td>\n",
       "      <td>Gran Via Road</td>\n",
       "      <td>18805</td>\n",
       "      <td>Granada</td>\n",
       "      <td>D</td>\n",
       "      <td>1/3/2018</td>\n",
       "      <td>Postman</td>\n",
       "      <td>971 659 123</td>\n",
       "      <td>Badger Maps</td>\n",
       "    </tr>\n",
       "    <tr>\n",
       "      <th>4</th>\n",
       "      <td>Anselmo</td>\n",
       "      <td>Ortega</td>\n",
       "      <td>King St</td>\n",
       "      <td>DE1 3LD</td>\n",
       "      <td>Almería</td>\n",
       "      <td>A</td>\n",
       "      <td>12/11/2017</td>\n",
       "      <td>Policeman</td>\n",
       "      <td>933 12 41 59</td>\n",
       "      <td>Wood SA</td>\n",
       "    </tr>\n",
       "  </tbody>\n",
       "</table>\n",
       "</div>"
      ],
      "text/plain": [
       "  First Name Last Name              Street      Zip     City Type  \\\n",
       "0   Federico    García    Recogidas Street    18805  Granada    U   \n",
       "1      Ángel   Ganivet  Puerta Real Avenue    18805  Granada    U   \n",
       "2        NaN       NaN                 NaN      NaN      NaN  NaN   \n",
       "3      André   Citröen       Gran Via Road    18805  Granada    D   \n",
       "4    Anselmo    Ortega             King St  DE1 3LD  Almería    A   \n",
       "\n",
       "  Last Check-In Date        Job         Phone      Company  \n",
       "0         14/01/2018    Dentist    958 419182  Badger Maps  \n",
       "1         06/02/2018   Salesman     917891232  Badger Maps  \n",
       "2                NaN        NaN           NaN          NaN  \n",
       "3           1/3/2018    Postman   971 659 123  Badger Maps  \n",
       "4         12/11/2017  Policeman  933 12 41 59      Wood SA  "
      ]
     },
     "execution_count": 2,
     "metadata": {},
     "output_type": "execute_result"
    }
   ],
   "source": [
    "import pandas as pd\n",
    "from datetime import datetime\n",
    "\n",
    "datos = pd.read_csv('Sample test file - Sheet1.csv')\n",
    "pd.options.display.max_rows = 10\n",
    "datos.head()"
   ]
  },
  {
   "cell_type": "code",
   "execution_count": 3,
   "metadata": {},
   "outputs": [
    {
     "data": {
      "text/plain": [
       "<sqlite3.Cursor at 0x7f6e3af04570>"
      ]
     },
     "execution_count": 3,
     "metadata": {},
     "output_type": "execute_result"
    }
   ],
   "source": [
    "import sqlite3\n",
    "\n",
    "conn = sqlite3.connect('badger.db')\n",
    "conn.execute(\"DROP TABLE data\")\n",
    "conn.execute('''CREATE TABLE data\n",
    "         (\n",
    "         id INTEGER PRIMARY KEY,    \n",
    "         first_name TEXT,\n",
    "         second_name TEXT,     \n",
    "         street           TEXT    NOT NULL,\n",
    "         zip            TEXT     NOT NULL,\n",
    "         city           TEXT     NOT NULL,\n",
    "         type TEXT,\n",
    "         job TEXT,\n",
    "         phone TEXT,\n",
    "         last_check_in_date DATETIME NOT NULL,\n",
    "         company        TEXT     NOT NULL\n",
    "         \n",
    "         );''')\n"
   ]
  },
  {
   "cell_type": "code",
   "execution_count": 4,
   "metadata": {},
   "outputs": [
    {
     "name": "stdout",
     "output_type": "stream",
     "text": [
      "Fila 2 vacía\n",
      "nan nan nan nan nan nan nan nan nan nan \n",
      "\n",
      "A la fila 6 Le falta un valor requerido\n",
      "Markus Dupont 102, Fake Street 18005 Granada A Musician 912234223 nan Fabric SA \n",
      "\n",
      "A la fila 7 Le falta un valor requerido\n",
      "Jake Robins Street Road nan Granada D Assistant 1111111111 11/03/2018 Fabric SA \n",
      "\n",
      "A la fila 8 Le falta un valor requerido\n",
      "Lola Rivers nan 18005 Granada A CEO 958963229 21/02/2018 Fabric SA \n",
      "\n"
     ]
    }
   ],
   "source": [
    "for index, row in datos.iterrows():\n",
    "    if pd.isna(row['First Name']) and pd.isna(row['Last Name']) and pd.isna(row['Street']) and pd.isna(row['Zip']) and pd.isna(row['Type']) and pd.isna(row['City']) and pd.isna(row['Job']) and pd.isna(row['Phone']) and pd.isna(row['Street']) and pd.isna(row['Last Check-In Date']) and pd.isna(row['Company']):\n",
    "        print('Fila ' + str(index)+ ' vacía')\n",
    "        print(row['First Name'],row['Last Name'],row['Street'],row['Zip'],row['City'],row['Type'],row['Job'],row['Phone'],row['Last Check-In Date'],row['Company'],'\\n') \n",
    "        continue\n",
    "    if pd.isna(row['Street']) or pd.isna(row['Zip']) or pd.isna(row['Street']) or pd.isna(row['Last Check-In Date']) or pd.isna(row['Company']):\n",
    "        print('A la fila '+ str(index) + ' Le falta un valor requerido')\n",
    "        print(row['First Name'],row['Last Name'],row['Street'],row['Zip'],row['City'],row['Type'],row['Job'],row['Phone'],row['Last Check-In Date'],row['Company'],'\\n')\n",
    "        continue\n",
    "\n",
    "    \n",
    "\n",
    "    conn.execute(\"INSERT INTO data (first_name,second_name,street,zip,city,type,job,phone,last_check_in_date,company) VALUES (:fir,:sec,:str,:zip,:city,:type,:job,:pho,:last,:comp);\",{\n",
    "        'fir':row['First Name'],\n",
    "        'sec':row['Last Name'],\n",
    "        'str':row['Street'],\n",
    "        'zip':row['Zip'],\n",
    "        'city':row['City'],\n",
    "        'type':row['Type'],\n",
    "        'job':row['Job'],\n",
    "        'pho':row['Phone'],\n",
    "        'last':datetime.strptime(row['Last Check-In Date'], '%d/%m/%Y'),\n",
    "        'comp':row['Company']\n",
    "    }\n",
    "        )\n",
    "    "
   ]
  },
  {
   "cell_type": "code",
   "execution_count": 5,
   "metadata": {},
   "outputs": [
    {
     "name": "stdout",
     "output_type": "stream",
     "text": [
      "(1, 'Federico', 'García', 'Recogidas Street', '18805', 'Granada', 'U', 'Dentist', '958 419182', '2018-01-14 00:00:00', 'Badger Maps')\n",
      "(2, 'Ángel', 'Ganivet', 'Puerta Real Avenue', '18805', 'Granada', 'U', 'Salesman', '917891232', '2018-02-06 00:00:00', 'Badger Maps')\n",
      "(3, 'André', 'Citröen', 'Gran Via Road', '18805', 'Granada', 'D', 'Postman', '971 659 123', '2018-03-01 00:00:00', 'Badger Maps')\n",
      "(4, 'Anselmo', 'Ortega', 'King St', 'DE1 3LD', 'Almería', 'A', 'Policeman', '933 12 41 59', '2017-11-12 00:00:00', 'Wood SA')\n",
      "(5, 'Bjorn', 'Ostberg', '27, Queen St', 'DE1 3LD', 'Almería', 'U', 'Actor', '93 1 31 21 29', '2018-04-24 00:00:00', 'Wood SA')\n",
      "(6, 'Paul', 'Hudson', 'Leicester Square', '18005', 'Granada', 'D', 'Salesman', '953912345', '2018-01-24 00:00:00', 'Fabric SA')\n"
     ]
    }
   ],
   "source": [
    "cur = conn.cursor()\n",
    "cur.execute('SELECT * FROM data')\n",
    "for row in cur.fetchall():\n",
    "     print(row)"
   ]
  },
  {
   "cell_type": "code",
   "execution_count": 13,
   "metadata": {},
   "outputs": [
    {
     "name": "stdout",
     "output_type": "stream",
     "text": [
      "('Anselmo', 'Ortega', '2017-11-12 00:00:00')\n",
      "('Federico', 'García', '2018-01-14 00:00:00')\n",
      "('Paul', 'Hudson', '2018-01-24 00:00:00')\n",
      "('Ángel', 'Ganivet', '2018-02-06 00:00:00')\n",
      "('André', 'Citröen', '2018-03-01 00:00:00')\n",
      "('Bjorn', 'Ostberg', '2018-04-24 00:00:00')\n"
     ]
    }
   ],
   "source": [
    "cur.execute(\"SELECT first_name,second_name,last_check_in_date as check_in FROM data ORDER BY last_check_in_date ASC\")\n",
    "for row in cur.fetchall():\n",
    "     print(row)"
   ]
  },
  {
   "cell_type": "code",
   "execution_count": 12,
   "metadata": {},
   "outputs": [
    {
     "name": "stdout",
     "output_type": "stream",
     "text": [
      "('Bjorn', 'Ostberg', '2018-04-24 00:00:00')\n",
      "('André', 'Citröen', '2018-03-01 00:00:00')\n",
      "('Ángel', 'Ganivet', '2018-02-06 00:00:00')\n",
      "('Paul', 'Hudson', '2018-01-24 00:00:00')\n",
      "('Federico', 'García', '2018-01-14 00:00:00')\n",
      "('Anselmo', 'Ortega', '2017-11-12 00:00:00')\n"
     ]
    }
   ],
   "source": [
    "cur.execute(\"SELECT first_name,second_name,last_check_in_date as check_in FROM data ORDER BY last_check_in_date DESC\")\n",
    "for row in cur.fetchall():\n",
    "     print(row)"
   ]
  },
  {
   "cell_type": "code",
   "execution_count": 11,
   "metadata": {},
   "outputs": [
    {
     "name": "stdout",
     "output_type": "stream",
     "text": [
      "('André', 'Citröen')\n",
      "('Anselmo', 'Ortega')\n",
      "('Bjorn', 'Ostberg')\n",
      "('Federico', 'García')\n",
      "('Paul', 'Hudson')\n",
      "('Ángel', 'Ganivet')\n"
     ]
    }
   ],
   "source": [
    "cur.execute(\"SELECT first_name,second_name as check_in FROM data ORDER BY first_name, second_name ASC\")\n",
    "for row in cur.fetchall():\n",
    "     print(row)"
   ]
  }
 ],
 "metadata": {
  "kernelspec": {
   "display_name": "Python 3 (ipykernel)",
   "language": "python",
   "name": "python3"
  },
  "language_info": {
   "codemirror_mode": {
    "name": "ipython",
    "version": 3
   },
   "file_extension": ".py",
   "mimetype": "text/x-python",
   "name": "python",
   "nbconvert_exporter": "python",
   "pygments_lexer": "ipython3",
   "version": "3.9.5"
  }
 },
 "nbformat": 4,
 "nbformat_minor": 2
}
