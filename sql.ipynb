{
 "cells": [
  {
   "cell_type": "markdown",
   "metadata": {},
   "source": [
    "# Test Badger Maps"
   ]
  },
  {
   "cell_type": "code",
   "execution_count": 6,
   "metadata": {},
   "outputs": [
    {
     "name": "stdout",
     "output_type": "stream",
     "text": [
      "Requirement already satisfied: pandas in /home/andre/miniconda3/lib/python3.9/site-packages (1.3.2)\n",
      "Requirement already satisfied: pytz>=2017.3 in /home/andre/miniconda3/lib/python3.9/site-packages (from pandas) (2021.1)\n",
      "Requirement already satisfied: numpy>=1.17.3 in /home/andre/miniconda3/lib/python3.9/site-packages (from pandas) (1.21.2)\n",
      "Requirement already satisfied: python-dateutil>=2.7.3 in /home/andre/miniconda3/lib/python3.9/site-packages (from pandas) (2.8.2)\n",
      "Requirement already satisfied: six>=1.5 in /home/andre/miniconda3/lib/python3.9/site-packages (from python-dateutil>=2.7.3->pandas) (1.16.0)\n",
      "\u001b[33mWARNING: You are using pip version 22.0.4; however, version 22.1 is available.\n",
      "You should consider upgrading via the '/home/andre/miniconda3/bin/python3 -m pip install --upgrade pip' command.\u001b[0m\u001b[33m\n",
      "\u001b[0m"
     ]
    }
   ],
   "source": [
    "!pip install pandas"
   ]
  },
  {
   "cell_type": "code",
   "execution_count": 7,
   "metadata": {},
   "outputs": [
    {
     "data": {
      "text/html": [
       "<div>\n",
       "<style scoped>\n",
       "    .dataframe tbody tr th:only-of-type {\n",
       "        vertical-align: middle;\n",
       "    }\n",
       "\n",
       "    .dataframe tbody tr th {\n",
       "        vertical-align: top;\n",
       "    }\n",
       "\n",
       "    .dataframe thead th {\n",
       "        text-align: right;\n",
       "    }\n",
       "</style>\n",
       "<table border=\"1\" class=\"dataframe\">\n",
       "  <thead>\n",
       "    <tr style=\"text-align: right;\">\n",
       "      <th></th>\n",
       "      <th>First Name</th>\n",
       "      <th>Last Name</th>\n",
       "      <th>Street</th>\n",
       "      <th>Zip</th>\n",
       "      <th>City</th>\n",
       "      <th>Type</th>\n",
       "      <th>Last Check-In Date</th>\n",
       "      <th>Job</th>\n",
       "      <th>Phone</th>\n",
       "      <th>Company</th>\n",
       "    </tr>\n",
       "  </thead>\n",
       "  <tbody>\n",
       "    <tr>\n",
       "      <th>0</th>\n",
       "      <td>Federico</td>\n",
       "      <td>García</td>\n",
       "      <td>Recogidas Street</td>\n",
       "      <td>18805</td>\n",
       "      <td>Granada</td>\n",
       "      <td>U</td>\n",
       "      <td>14/01/2018</td>\n",
       "      <td>Dentist</td>\n",
       "      <td>958 419182</td>\n",
       "      <td>Badger Maps</td>\n",
       "    </tr>\n",
       "    <tr>\n",
       "      <th>1</th>\n",
       "      <td>Ángel</td>\n",
       "      <td>Ganivet</td>\n",
       "      <td>Puerta Real Avenue</td>\n",
       "      <td>18805</td>\n",
       "      <td>Granada</td>\n",
       "      <td>U</td>\n",
       "      <td>06/02/2018</td>\n",
       "      <td>Salesman</td>\n",
       "      <td>917891232</td>\n",
       "      <td>Badger Maps</td>\n",
       "    </tr>\n",
       "    <tr>\n",
       "      <th>2</th>\n",
       "      <td>NaN</td>\n",
       "      <td>NaN</td>\n",
       "      <td>NaN</td>\n",
       "      <td>NaN</td>\n",
       "      <td>NaN</td>\n",
       "      <td>NaN</td>\n",
       "      <td>NaN</td>\n",
       "      <td>NaN</td>\n",
       "      <td>NaN</td>\n",
       "      <td>NaN</td>\n",
       "    </tr>\n",
       "    <tr>\n",
       "      <th>3</th>\n",
       "      <td>André</td>\n",
       "      <td>Citröen</td>\n",
       "      <td>Gran Via Road</td>\n",
       "      <td>18805</td>\n",
       "      <td>Granada</td>\n",
       "      <td>D</td>\n",
       "      <td>1/3/2018</td>\n",
       "      <td>Postman</td>\n",
       "      <td>971 659 123</td>\n",
       "      <td>Badger Maps</td>\n",
       "    </tr>\n",
       "    <tr>\n",
       "      <th>4</th>\n",
       "      <td>Anselmo</td>\n",
       "      <td>Ortega</td>\n",
       "      <td>King St</td>\n",
       "      <td>DE1 3LD</td>\n",
       "      <td>Almería</td>\n",
       "      <td>A</td>\n",
       "      <td>12/11/2017</td>\n",
       "      <td>Policeman</td>\n",
       "      <td>933 12 41 59</td>\n",
       "      <td>Wood SA</td>\n",
       "    </tr>\n",
       "  </tbody>\n",
       "</table>\n",
       "</div>"
      ],
      "text/plain": [
       "  First Name Last Name              Street      Zip     City Type  \\\n",
       "0   Federico    García    Recogidas Street    18805  Granada    U   \n",
       "1      Ángel   Ganivet  Puerta Real Avenue    18805  Granada    U   \n",
       "2        NaN       NaN                 NaN      NaN      NaN  NaN   \n",
       "3      André   Citröen       Gran Via Road    18805  Granada    D   \n",
       "4    Anselmo    Ortega             King St  DE1 3LD  Almería    A   \n",
       "\n",
       "  Last Check-In Date        Job         Phone      Company  \n",
       "0         14/01/2018    Dentist    958 419182  Badger Maps  \n",
       "1         06/02/2018   Salesman     917891232  Badger Maps  \n",
       "2                NaN        NaN           NaN          NaN  \n",
       "3           1/3/2018    Postman   971 659 123  Badger Maps  \n",
       "4         12/11/2017  Policeman  933 12 41 59      Wood SA  "
      ]
     },
     "execution_count": 7,
     "metadata": {},
     "output_type": "execute_result"
    }
   ],
   "source": [
    "import pandas as pd\n",
    "from datetime import datetime\n",
    "\n",
    "datos = pd.read_csv('Sample test file - Sheet1.csv')\n",
    "pd.options.display.max_rows = 10\n",
    "datos.head()"
   ]
  },
  {
   "cell_type": "code",
   "execution_count": 8,
   "metadata": {},
   "outputs": [
    {
     "ename": "OperationalError",
     "evalue": "database is locked",
     "output_type": "error",
     "traceback": [
      "\u001b[0;31m---------------------------------------------------------------------------\u001b[0m",
      "\u001b[0;31mOperationalError\u001b[0m                          Traceback (most recent call last)",
      "\u001b[0;32m/tmp/ipykernel_57714/343941767.py\u001b[0m in \u001b[0;36m<module>\u001b[0;34m\u001b[0m\n\u001b[1;32m      2\u001b[0m \u001b[0;34m\u001b[0m\u001b[0m\n\u001b[1;32m      3\u001b[0m \u001b[0mconn\u001b[0m \u001b[0;34m=\u001b[0m \u001b[0msqlite3\u001b[0m\u001b[0;34m.\u001b[0m\u001b[0mconnect\u001b[0m\u001b[0;34m(\u001b[0m\u001b[0;34m'badger.db'\u001b[0m\u001b[0;34m)\u001b[0m\u001b[0;34m\u001b[0m\u001b[0;34m\u001b[0m\u001b[0m\n\u001b[0;32m----> 4\u001b[0;31m \u001b[0mconn\u001b[0m\u001b[0;34m.\u001b[0m\u001b[0mexecute\u001b[0m\u001b[0;34m(\u001b[0m\u001b[0;34m\"DROP TABLE data\"\u001b[0m\u001b[0;34m)\u001b[0m\u001b[0;34m\u001b[0m\u001b[0;34m\u001b[0m\u001b[0m\n\u001b[0m\u001b[1;32m      5\u001b[0m conn.execute('''CREATE TABLE data\n\u001b[1;32m      6\u001b[0m          (\n",
      "\u001b[0;31mOperationalError\u001b[0m: database is locked"
     ]
    }
   ],
   "source": [
    "import sqlite3\n",
    "\n",
    "conn = sqlite3.connect('badger.db')\n",
    "conn.execute(\"DROP TABLE data\")\n",
    "conn.execute('''CREATE TABLE data\n",
    "         (\n",
    "         id INTEGER PRIMARY KEY,    \n",
    "         first_name TEXT,\n",
    "         second_name TEXT,     \n",
    "         street           TEXT    NOT NULL,\n",
    "         zip            TEXT     NOT NULL,\n",
    "         city           TEXT     NOT NULL,\n",
    "         type TEXT,\n",
    "         job TEXT,\n",
    "         phone TEXT,\n",
    "         last_check_in_date DATETIME NOT NULL,\n",
    "         company        TEXT     NOT NULL\n",
    "         \n",
    "         );''')\n"
   ]
  },
  {
   "cell_type": "code",
   "execution_count": null,
   "metadata": {},
   "outputs": [
    {
     "name": "stdout",
     "output_type": "stream",
     "text": [
      "Fila 2 vacía número\n",
      "nan nan nan nan nan nan nan nan nan nan \n",
      "\n",
      "A la fila 6 Le falta un valor requerido\n",
      "Markus Dupont 102, Fake Street 18005 Granada A Musician 912234223 nan Fabric SA \n",
      "\n",
      "A la fila 7 Le falta un valor requerido\n",
      "Jake Robins Street Road nan Granada D Assistant 1111111111 11/03/2018 Fabric SA \n",
      "\n",
      "A la fila 8 Le falta un valor requerido\n",
      "Lola Rivers nan 18005 Granada A CEO 958963229 21/02/2018 Fabric SA \n",
      "\n"
     ]
    }
   ],
   "source": [
    "for index, row in datos.iterrows():\n",
    "    if pd.isna(row['First Name']) and pd.isna(row['Last Name']) and pd.isna(row['Street']) and pd.isna(row['Zip']) and pd.isna(row['Type']) and pd.isna(row['City']) and pd.isna(row['Job']) and pd.isna(row['Phone']) and pd.isna(row['Street']) and pd.isna(row['Last Check-In Date']) and pd.isna(row['Company']):\n",
    "        print('Fila ' + str(index)+ ' vacía')\n",
    "        print(row['First Name'],row['Last Name'],row['Street'],row['Zip'],row['City'],row['Type'],row['Job'],row['Phone'],row['Last Check-In Date'],row['Company'],'\\n') \n",
    "        continue\n",
    "    if pd.isna(row['Street']) or pd.isna(row['Zip']) or pd.isna(row['Street']) or pd.isna(row['Last Check-In Date']) or pd.isna(row['Company']):\n",
    "        print('A la fila '+ str(index) + ' Le falta un valor requerido')\n",
    "        print(row['First Name'],row['Last Name'],row['Street'],row['Zip'],row['City'],row['Type'],row['Job'],row['Phone'],row['Last Check-In Date'],row['Company'],'\\n')\n",
    "        continue\n",
    "\n",
    "    \n",
    "\n",
    "    conn.execute(\"INSERT INTO data (first_name,second_name,street,zip,city,type,job,phone,last_check_in_date,company) VALUES (:fir,:sec,:str,:zip,:city,:type,:job,:pho,:last,:comp);\",{\n",
    "        'fir':row['First Name'],\n",
    "        'sec':row['Last Name'],\n",
    "        'str':row['Street'],\n",
    "        'zip':row['Zip'],\n",
    "        'city':row['City'],\n",
    "        'type':row['Type'],\n",
    "        'job':row['Job'],\n",
    "        'pho':row['Phone'],\n",
    "        'last':row['Last Check-In Date'],\n",
    "        'comp':row['Company']\n",
    "    }\n",
    "        )\n",
    "    "
   ]
  },
  {
   "cell_type": "code",
   "execution_count": null,
   "metadata": {},
   "outputs": [
    {
     "name": "stdout",
     "output_type": "stream",
     "text": [
      "(1, 'Federico', 'García', 'Recogidas Street', '18805', 'Granada', 'U', 'Dentist', '958 419182', '14/01/2018', 'Badger Maps')\n",
      "(2, 'Ángel', 'Ganivet', 'Puerta Real Avenue', '18805', 'Granada', 'U', 'Salesman', '917891232', '06/02/2018', 'Badger Maps')\n",
      "(3, 'André', 'Citröen', 'Gran Via Road', '18805', 'Granada', 'D', 'Postman', '971 659 123', '1/3/2018', 'Badger Maps')\n",
      "(4, 'Anselmo', 'Ortega', 'King St', 'DE1 3LD', 'Almería', 'A', 'Policeman', '933 12 41 59', '12/11/2017', 'Wood SA')\n",
      "(5, 'Bjorn', 'Ostberg', '27, Queen St', 'DE1 3LD', 'Almería', 'U', 'Actor', '93 1 31 21 29', '24/04/2018', 'Wood SA')\n",
      "(6, 'Paul', 'Hudson', 'Leicester Square', '18005', 'Granada', 'D', 'Salesman', '953912345', '24/01/2018', 'Fabric SA')\n"
     ]
    }
   ],
   "source": [
    "cur = conn.cursor()\n",
    "cur.execute('SELECT * FROM data')\n",
    "for row in cur.fetchall():\n",
    "     print(row)"
   ]
  }
 ],
 "metadata": {
  "kernelspec": {
   "display_name": "Python 3 (ipykernel)",
   "language": "python",
   "name": "python3"
  },
  "language_info": {
   "codemirror_mode": {
    "name": "ipython",
    "version": 3
   },
   "file_extension": ".py",
   "mimetype": "text/x-python",
   "name": "python",
   "nbconvert_exporter": "python",
   "pygments_lexer": "ipython3",
   "version": "3.9.5"
  }
 },
 "nbformat": 4,
 "nbformat_minor": 2
}
