{
 "cells": [
  {
   "cell_type": "markdown",
   "metadata": {},
   "source": [
    "# Test Badger Maps"
   ]
  },
  {
   "cell_type": "code",
   "execution_count": 1,
   "metadata": {},
   "outputs": [
    {
     "name": "stdout",
     "output_type": "stream",
     "text": [
      "Requirement already satisfied: pandas in /home/andre/miniconda3/lib/python3.9/site-packages (1.3.2)\n",
      "Requirement already satisfied: numpy>=1.17.3 in /home/andre/miniconda3/lib/python3.9/site-packages (from pandas) (1.21.2)\n",
      "Requirement already satisfied: python-dateutil>=2.7.3 in /home/andre/miniconda3/lib/python3.9/site-packages (from pandas) (2.8.2)\n",
      "Requirement already satisfied: pytz>=2017.3 in /home/andre/miniconda3/lib/python3.9/site-packages (from pandas) (2021.1)\n",
      "Requirement already satisfied: six>=1.5 in /home/andre/miniconda3/lib/python3.9/site-packages (from python-dateutil>=2.7.3->pandas) (1.16.0)\n",
      "\u001b[33mWARNING: You are using pip version 22.0.4; however, version 22.1 is available.\n",
      "You should consider upgrading via the '/home/andre/miniconda3/bin/python3 -m pip install --upgrade pip' command.\u001b[0m\u001b[33m\n",
      "\u001b[0m"
     ]
    }
   ],
   "source": [
    "!pip install pandas"
   ]
  },
  {
   "cell_type": "markdown",
   "metadata": {},
   "source": [
    "Lectura del archivo"
   ]
  },
  {
   "cell_type": "code",
   "execution_count": 2,
   "metadata": {},
   "outputs": [
    {
     "name": "stdout",
     "output_type": "stream",
     "text": [
      "  First Name Last Name              Street      Zip     City Type  \\\n",
      "0   Federico    García    Recogidas Street    18805  Granada    U   \n",
      "1      Ángel   Ganivet  Puerta Real Avenue    18805  Granada    U   \n",
      "2        NaN       NaN                 NaN      NaN      NaN  NaN   \n",
      "3      André   Citröen       Gran Via Road    18805  Granada    D   \n",
      "4    Anselmo    Ortega             King St  DE1 3LD  Almería    A   \n",
      "5      Bjorn   Ostberg        27, Queen St  DE1 3LD  Almería    U   \n",
      "6     Markus    Dupont    102, Fake Street    18005  Granada    A   \n",
      "7       Jake    Robins         Street Road      NaN  Granada    D   \n",
      "8       Lola    Rivers                 NaN    18005  Granada    A   \n",
      "9       Paul    Hudson    Leicester Square    18005  Granada    D   \n",
      "\n",
      "  Last Check-In Date        Job          Phone      Company  \n",
      "0         14/01/2018    Dentist     958 419182  Badger Maps  \n",
      "1         06/02/2018   Salesman      917891232  Badger Maps  \n",
      "2                NaN        NaN            NaN          NaN  \n",
      "3           1/3/2018    Postman    971 659 123  Badger Maps  \n",
      "4         12/11/2017  Policeman   933 12 41 59      Wood SA  \n",
      "5         24/04/2018      Actor  93 1 31 21 29      Wood SA  \n",
      "6                NaN   Musician      912234223    Fabric SA  \n",
      "7         11/03/2018  Assistant     1111111111    Fabric SA  \n",
      "8         21/02/2018        CEO      958963229    Fabric SA  \n",
      "9         24/01/2018   Salesman      953912345    Fabric SA  \n"
     ]
    }
   ],
   "source": [
    "import pandas as pd\n",
    "from datetime import datetime\n",
    "\n",
    "datos = pd.read_csv('Sample test file - Sheet1.csv')\n",
    "pd.options.display.max_rows = 10\n",
    "print(datos)"
   ]
  },
  {
   "cell_type": "code",
   "execution_count": 3,
   "metadata": {},
   "outputs": [
    {
     "data": {
      "text/plain": [
       "<sqlite3.Cursor at 0x7fd7e378a110>"
      ]
     },
     "execution_count": 3,
     "metadata": {},
     "output_type": "execute_result"
    }
   ],
   "source": [
    "import sqlite3\n",
    "# Creamos una base de datos y \n",
    "conn = sqlite3.connect('badger.db')\n",
    "conn.execute(\"DROP TABLE data\")\n",
    "conn.execute('''CREATE TABLE data\n",
    "         (\n",
    "         id INTEGER PRIMARY KEY,    \n",
    "         first_name TEXT,\n",
    "         second_name TEXT,     \n",
    "         street           TEXT    NOT NULL,\n",
    "         zip            TEXT     NOT NULL,\n",
    "         city           TEXT     NOT NULL,\n",
    "         type TEXT,\n",
    "         job TEXT,\n",
    "         phone TEXT,\n",
    "         last_check_in_date DATETIME NOT NULL,\n",
    "         company        TEXT     NOT NULL\n",
    "         \n",
    "         );''')\n"
   ]
  },
  {
   "cell_type": "markdown",
   "metadata": {},
   "source": [
    "Comprobamos las filas y añadimos los datos válidos"
   ]
  },
  {
   "cell_type": "code",
   "execution_count": 4,
   "metadata": {},
   "outputs": [
    {
     "name": "stdout",
     "output_type": "stream",
     "text": [
      "Fila 2 vacía\n",
      "nan nan nan nan nan nan nan nan nan nan \n",
      "\n",
      "A la fila 6 Le falta un valor requerido\n",
      "Markus Dupont 102, Fake Street 18005 Granada A Musician 912234223 nan Fabric SA \n",
      "\n",
      "A la fila 7 Le falta un valor requerido\n",
      "Jake Robins Street Road nan Granada D Assistant 1111111111 11/03/2018 Fabric SA \n",
      "\n",
      "A la fila 8 Le falta un valor requerido\n",
      "Lola Rivers nan 18005 Granada A CEO 958963229 21/02/2018 Fabric SA \n",
      "\n"
     ]
    }
   ],
   "source": [
    "# Iteramos por cada fila de los datos y comprobamos casos no válidos. No insertamos en ese caso.\n",
    "for index, row in datos.iterrows():\n",
    "\n",
    "    # Caso de que la fila este vacía\n",
    "    if pd.isna(row['First Name']) and pd.isna(row['Last Name']) and pd.isna(row['Street']) and pd.isna(row['Zip']) and pd.isna(row['Type']) and pd.isna(row['City']) and pd.isna(row['Job']) and pd.isna(row['Phone']) and pd.isna(row['Street']) and pd.isna(row['Last Check-In Date']) and pd.isna(row['Company']):\n",
    "        print('Fila ' + str(index)+ ' vacía')\n",
    "        print(row['First Name'],row['Last Name'],row['Street'],row['Zip'],row['City'],row['Type'],row['Job'],row['Phone'],row['Last Check-In Date'],row['Company'],'\\n') \n",
    "        continue\n",
    "    # Caso de que le falte algún dato requerido\n",
    "    if pd.isna(row['Street']) or pd.isna(row['Zip']) or pd.isna(row['Street']) or pd.isna(row['Last Check-In Date']) or pd.isna(row['Company']):\n",
    "        print('A la fila '+ str(index) + ' Le falta un valor requerido')\n",
    "        print(row['First Name'],row['Last Name'],row['Street'],row['Zip'],row['City'],row['Type'],row['Job'],row['Phone'],row['Last Check-In Date'],row['Company'],'\\n')\n",
    "        continue\n",
    "\n",
    "    \n",
    "    # Insertamos los datos\n",
    "    conn.execute(\"INSERT INTO data (first_name,second_name,street,zip,city,type,job,phone,last_check_in_date,company) VALUES (:fir,:sec,:str,:zip,:city,:type,:job,:pho,:last,:comp);\",{\n",
    "        'fir':row['First Name'],\n",
    "        'sec':row['Last Name'],\n",
    "        'str':row['Street'],\n",
    "        'zip':row['Zip'],\n",
    "        'city':row['City'],\n",
    "        'type':row['Type'],\n",
    "        'job':row['Job'],\n",
    "        'pho':row['Phone'],\n",
    "        'last':datetime.strptime(row['Last Check-In Date'], '%d/%m/%Y'),\n",
    "        'comp':row['Company']\n",
    "    }\n",
    "        )\n",
    "    "
   ]
  },
  {
   "cell_type": "code",
   "execution_count": 5,
   "metadata": {},
   "outputs": [
    {
     "name": "stdout",
     "output_type": "stream",
     "text": [
      "(1, 'Federico', 'García', 'Recogidas Street', '18805', 'Granada', 'U', 'Dentist', '958 419182', '2018-01-14 00:00:00', 'Badger Maps')\n",
      "(2, 'Ángel', 'Ganivet', 'Puerta Real Avenue', '18805', 'Granada', 'U', 'Salesman', '917891232', '2018-02-06 00:00:00', 'Badger Maps')\n",
      "(3, 'André', 'Citröen', 'Gran Via Road', '18805', 'Granada', 'D', 'Postman', '971 659 123', '2018-03-01 00:00:00', 'Badger Maps')\n",
      "(4, 'Anselmo', 'Ortega', 'King St', 'DE1 3LD', 'Almería', 'A', 'Policeman', '933 12 41 59', '2017-11-12 00:00:00', 'Wood SA')\n",
      "(5, 'Bjorn', 'Ostberg', '27, Queen St', 'DE1 3LD', 'Almería', 'U', 'Actor', '93 1 31 21 29', '2018-04-24 00:00:00', 'Wood SA')\n",
      "(6, 'Paul', 'Hudson', 'Leicester Square', '18005', 'Granada', 'D', 'Salesman', '953912345', '2018-01-24 00:00:00', 'Fabric SA')\n"
     ]
    }
   ],
   "source": [
    "# Ejemplo de cómo queda la tabla\n",
    "cur = conn.cursor()\n",
    "cur.execute('SELECT * FROM data')\n",
    "for row in cur.fetchall():\n",
    "     print(row)"
   ]
  },
  {
   "cell_type": "markdown",
   "metadata": {},
   "source": [
    "Customer con el check in más antiguo"
   ]
  },
  {
   "cell_type": "code",
   "execution_count": 6,
   "metadata": {},
   "outputs": [
    {
     "name": "stdout",
     "output_type": "stream",
     "text": [
      "('Anselmo', 'Ortega', '2017-11-12 00:00:00')\n",
      "('Federico', 'García', '2018-01-14 00:00:00')\n",
      "('Paul', 'Hudson', '2018-01-24 00:00:00')\n",
      "('Ángel', 'Ganivet', '2018-02-06 00:00:00')\n",
      "('André', 'Citröen', '2018-03-01 00:00:00')\n",
      "('Bjorn', 'Ostberg', '2018-04-24 00:00:00')\n",
      "El cliente con el check in más reciente es: ('Anselmo', 'Ortega', '2017-11-12 00:00:00')\n"
     ]
    }
   ],
   "source": [
    "cur.execute(\"SELECT first_name,second_name,last_check_in_date as check_in FROM data ORDER BY last_check_in_date ASC\")\n",
    "query =  cur.fetchall()\n",
    "for row in query:\n",
    "     print(row)\n",
    "\n",
    "print(\"El cliente con el check in más antiguo es: \" + str(query[0]))"
   ]
  },
  {
   "cell_type": "markdown",
   "metadata": {},
   "source": [
    "EL cliente con el check in más reciente"
   ]
  },
  {
   "cell_type": "code",
   "execution_count": 7,
   "metadata": {},
   "outputs": [
    {
     "name": "stdout",
     "output_type": "stream",
     "text": [
      "('Bjorn', 'Ostberg', '2018-04-24 00:00:00')\n",
      "('André', 'Citröen', '2018-03-01 00:00:00')\n",
      "('Ángel', 'Ganivet', '2018-02-06 00:00:00')\n",
      "('Paul', 'Hudson', '2018-01-24 00:00:00')\n",
      "('Federico', 'García', '2018-01-14 00:00:00')\n",
      "('Anselmo', 'Ortega', '2017-11-12 00:00:00')\n",
      "El cliente con el check in más antiguo es: ('Bjorn', 'Ostberg', '2018-04-24 00:00:00')\n"
     ]
    }
   ],
   "source": [
    "cur.execute(\"SELECT first_name,second_name,last_check_in_date as check_in FROM data ORDER BY last_check_in_date DESC\")\n",
    "query = cur.fetchall()\n",
    "for row in query:\n",
    "     print(row)\n",
    "\n",
    "print(\"El cliente con el check in más reciente es: \" + str(query[0]))"
   ]
  },
  {
   "cell_type": "markdown",
   "metadata": {},
   "source": [
    "Lista de clientes ordenadas alfabéticamente"
   ]
  },
  {
   "cell_type": "code",
   "execution_count": 8,
   "metadata": {},
   "outputs": [
    {
     "name": "stdout",
     "output_type": "stream",
     "text": [
      "('André', 'Citröen')\n",
      "('Anselmo', 'Ortega')\n",
      "('Bjorn', 'Ostberg')\n",
      "('Federico', 'García')\n",
      "('Paul', 'Hudson')\n",
      "('Ángel', 'Ganivet')\n"
     ]
    }
   ],
   "source": [
    "cur.execute(\"SELECT first_name,second_name as check_in FROM data ORDER BY first_name, second_name ASC\")\n",
    "for row in cur.fetchall():\n",
    "     print(row)"
   ]
  }
 ],
 "metadata": {
  "kernelspec": {
   "display_name": "Python 3 (ipykernel)",
   "language": "python",
   "name": "python3"
  },
  "language_info": {
   "codemirror_mode": {
    "name": "ipython",
    "version": 3
   },
   "file_extension": ".py",
   "mimetype": "text/x-python",
   "name": "python",
   "nbconvert_exporter": "python",
   "pygments_lexer": "ipython3",
   "version": "3.9.5"
  }
 },
 "nbformat": 4,
 "nbformat_minor": 2
}
